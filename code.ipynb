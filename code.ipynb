{
  "cells": [
    {
      "cell_type": "code",
      "execution_count": null,
      "metadata": {
        "id": "qPIFsUj-w1yW"
      },
      "outputs": [],
      "source": [
        "import zipfile\n",
        "from google.colab import drive\n",
        "import os\n",
        "import librosa\n",
        "import librosa.display\n",
        "import math\n",
        "import numpy as np\n",
        "import pandas as pd\n",
        "from sklearn.svm import SVC\n",
        "from sklearn.metrics import accuracy_score, precision_recall_fscore_support\n",
        "from sklearn.model_selection import train_test_split\n",
        "from sklearn.preprocessing import LabelEncoder\n",
        "import matplotlib.pyplot as plt"
      ]
    },
    {
      "cell_type": "code",
      "source": [
        "from google.colab import drive\n",
        "drive.mount('/content/drive')"
      ],
      "metadata": {
        "colab": {
          "base_uri": "https://localhost:8080/"
        },
        "id": "MrprBr-kKY-S",
        "outputId": "d6609917-82b0-4dbb-a0e0-6085b925c95e"
      },
      "execution_count": null,
      "outputs": [
        {
          "output_type": "stream",
          "name": "stdout",
          "text": [
            "Drive already mounted at /content/drive; to attempt to forcibly remount, call drive.mount(\"/content/drive\", force_remount=True).\n"
          ]
        }
      ]
    },
    {
      "cell_type": "code",
      "execution_count": null,
      "metadata": {
        "colab": {
          "base_uri": "https://localhost:8080/"
        },
        "id": "pDWHqBBVYFv7",
        "outputId": "26f94383-764e-4312-c14a-8fbf23a48f18"
      },
      "outputs": [
        {
          "output_type": "stream",
          "name": "stdout",
          "text": [
            "Drive already mounted at /content/drive; to attempt to forcibly remount, call drive.mount(\"/content/drive\", force_remount=True).\n"
          ]
        }
      ],
      "source": [
        "drive.mount('/content/drive')\n",
        "\n",
        "zip_ref = zipfile.ZipFile(\"/content/drive/My Drive/Archive.zip\", 'r')\n",
        "# zip_ref = zipfile.ZipFile(\"/content/drive/My Drive/RAVDESSemotions1.zip\", 'r')\n",
        "zip_ref.extractall(\"/content\")\n",
        "zip_ref.close()"
      ]
    },
    {
      "cell_type": "code",
      "source": [
        "# take a look at our dataset\n",
        "data = { 'Actor_ID': [],\n",
        "         'Emotion': [],\n",
        "         'Sentence': [],\n",
        "         'Path': [] }"
      ],
      "metadata": {
        "id": "LmavbGGO3SKt"
      },
      "execution_count": null,
      "outputs": []
    },
    {
      "cell_type": "code",
      "source": [
        "def dataset_construction(condition, emotion):\n",
        "  path = '/content/' + condition + \"/\" + emotion + '/'\n",
        "  audios = os.listdir(path)\n",
        "  for audio in audios:\n",
        "    if audio == '.DS_Store':\n",
        "      continue\n",
        "\n",
        "    # actor_id\n",
        "    data['Actor_ID'].append(audio[:2])\n",
        "\n",
        "    # emotion\n",
        "    data['Emotion'].append(emotion)\n",
        "\n",
        "    # sentence\n",
        "    sentence_number = audio[-6:-4]\n",
        "    data['Sentence'].append(int(sentence_number))\n",
        "\n",
        "    # path\n",
        "    data['Path'].append(path + audio)"
      ],
      "metadata": {
        "id": "q9Bqyemh3Xar"
      },
      "execution_count": null,
      "outputs": []
    },
    {
      "cell_type": "code",
      "execution_count": null,
      "metadata": {
        "id": "HccwrThLv-tP"
      },
      "outputs": [],
      "source": [
        "X_train, Y_train = [], []\n",
        "X_test, Y_test = [], []\n",
        "X,Y = [],[]\n",
        "\n",
        "def mfcc_extraction(condition, emotion):\n",
        "  path = '/content/' + condition + \"/\" + emotion + '/'\n",
        "  audios = os.listdir(path)\n",
        "\n",
        "  features_num = 49\n",
        "\n",
        "  mean_features = [] # mean for each audio\n",
        "  emotion_labels = [] # emotions for each audio will be saved here\n",
        "\n",
        "  for audio in audios:\n",
        "    if audio == '.DS_Store':\n",
        "      continue\n",
        "    x, sr = librosa.load(path+audio, sr = 22050 * 2) # 22050 * 2 due to improving audio quality\n",
        "\n",
        "    mean_mfccs = np.mean(librosa.feature.mfcc(y=x, sr=sr, n_mfcc=features_num).T,axis=0)\n",
        "    mean_mfccs=np.append(mean_mfccs, np.diff(mean_mfccs))\n",
        "    mean_mfccs=np.append(mean_mfccs, np.diff(np.diff(mean_mfccs)))\n",
        "    mean_features.append(mean_mfccs)\n",
        "    emotion_labels.append(emotion)\n",
        "\n",
        "\n",
        "  return mean_features, emotion_labels"
      ]
    },
    {
      "cell_type": "code",
      "execution_count": null,
      "metadata": {
        "id": "heYP1IFTv_h8"
      },
      "outputs": [],
      "source": [
        "def prepare_datasets():\n",
        "  conditions = ['Train', 'Test']\n",
        "  emotions = [\"Anger\", \"Disgust\", \"Happiness\", \"Neutral\", \"Sadness\"] #SAVEE\n",
        "\n",
        "  for condition in conditions:\n",
        "    for emotion in emotions:\n",
        "      mean_features, emotion_labels = mfcc_extraction(condition, emotion)\n",
        "      dataset_construction(condition, emotion)\n",
        "      X.extend(mean_features)\n",
        "      Y.extend(emotion_labels)"
      ]
    },
    {
      "cell_type": "code",
      "source": [
        "prepare_datasets()"
      ],
      "metadata": {
        "id": "OB78mnvS5Rby"
      },
      "execution_count": null,
      "outputs": []
    },
    {
      "cell_type": "code",
      "source": [
        "df = pd.DataFrame(data)\n",
        "df"
      ],
      "metadata": {
        "colab": {
          "base_uri": "https://localhost:8080/",
          "height": 419
        },
        "id": "GFqpkaUC5DUl",
        "outputId": "8962c3f2-5ac3-4fdd-c983-554eab243c08"
      },
      "execution_count": null,
      "outputs": [
        {
          "output_type": "execute_result",
          "data": {
            "text/plain": [
              "    Actor_ID  Emotion  Sentence                              Path\n",
              "0         JK    Anger        15    /content/Train/Anger/JKa15.wav\n",
              "1         JK    Anger        10    /content/Train/Anger/JKa10.wav\n",
              "2         JE    Anger         5    /content/Train/Anger/JEa05.wav\n",
              "3         JK    Anger        11    /content/Train/Anger/JKa11.wav\n",
              "4         DC    Anger        12    /content/Train/Anger/DCa12.wav\n",
              "..       ...      ...       ...                               ...\n",
              "355       JK  Sadness         4  /content/Test/Sadness/JKsa04.wav\n",
              "356       JE  Sadness         2  /content/Test/Sadness/JEsa02.wav\n",
              "357       KL  Sadness         3  /content/Test/Sadness/KLsa03.wav\n",
              "358       JK  Sadness         3  /content/Test/Sadness/JKsa03.wav\n",
              "359       JK  Sadness         2  /content/Test/Sadness/JKsa02.wav\n",
              "\n",
              "[360 rows x 4 columns]"
            ],
            "text/html": [
              "\n",
              "  <div id=\"df-22dac24b-db9c-4a06-aff2-10e64061fdb4\" class=\"colab-df-container\">\n",
              "    <div>\n",
              "<style scoped>\n",
              "    .dataframe tbody tr th:only-of-type {\n",
              "        vertical-align: middle;\n",
              "    }\n",
              "\n",
              "    .dataframe tbody tr th {\n",
              "        vertical-align: top;\n",
              "    }\n",
              "\n",
              "    .dataframe thead th {\n",
              "        text-align: right;\n",
              "    }\n",
              "</style>\n",
              "<table border=\"1\" class=\"dataframe\">\n",
              "  <thead>\n",
              "    <tr style=\"text-align: right;\">\n",
              "      <th></th>\n",
              "      <th>Actor_ID</th>\n",
              "      <th>Emotion</th>\n",
              "      <th>Sentence</th>\n",
              "      <th>Path</th>\n",
              "    </tr>\n",
              "  </thead>\n",
              "  <tbody>\n",
              "    <tr>\n",
              "      <th>0</th>\n",
              "      <td>JK</td>\n",
              "      <td>Anger</td>\n",
              "      <td>15</td>\n",
              "      <td>/content/Train/Anger/JKa15.wav</td>\n",
              "    </tr>\n",
              "    <tr>\n",
              "      <th>1</th>\n",
              "      <td>JK</td>\n",
              "      <td>Anger</td>\n",
              "      <td>10</td>\n",
              "      <td>/content/Train/Anger/JKa10.wav</td>\n",
              "    </tr>\n",
              "    <tr>\n",
              "      <th>2</th>\n",
              "      <td>JE</td>\n",
              "      <td>Anger</td>\n",
              "      <td>5</td>\n",
              "      <td>/content/Train/Anger/JEa05.wav</td>\n",
              "    </tr>\n",
              "    <tr>\n",
              "      <th>3</th>\n",
              "      <td>JK</td>\n",
              "      <td>Anger</td>\n",
              "      <td>11</td>\n",
              "      <td>/content/Train/Anger/JKa11.wav</td>\n",
              "    </tr>\n",
              "    <tr>\n",
              "      <th>4</th>\n",
              "      <td>DC</td>\n",
              "      <td>Anger</td>\n",
              "      <td>12</td>\n",
              "      <td>/content/Train/Anger/DCa12.wav</td>\n",
              "    </tr>\n",
              "    <tr>\n",
              "      <th>...</th>\n",
              "      <td>...</td>\n",
              "      <td>...</td>\n",
              "      <td>...</td>\n",
              "      <td>...</td>\n",
              "    </tr>\n",
              "    <tr>\n",
              "      <th>355</th>\n",
              "      <td>JK</td>\n",
              "      <td>Sadness</td>\n",
              "      <td>4</td>\n",
              "      <td>/content/Test/Sadness/JKsa04.wav</td>\n",
              "    </tr>\n",
              "    <tr>\n",
              "      <th>356</th>\n",
              "      <td>JE</td>\n",
              "      <td>Sadness</td>\n",
              "      <td>2</td>\n",
              "      <td>/content/Test/Sadness/JEsa02.wav</td>\n",
              "    </tr>\n",
              "    <tr>\n",
              "      <th>357</th>\n",
              "      <td>KL</td>\n",
              "      <td>Sadness</td>\n",
              "      <td>3</td>\n",
              "      <td>/content/Test/Sadness/KLsa03.wav</td>\n",
              "    </tr>\n",
              "    <tr>\n",
              "      <th>358</th>\n",
              "      <td>JK</td>\n",
              "      <td>Sadness</td>\n",
              "      <td>3</td>\n",
              "      <td>/content/Test/Sadness/JKsa03.wav</td>\n",
              "    </tr>\n",
              "    <tr>\n",
              "      <th>359</th>\n",
              "      <td>JK</td>\n",
              "      <td>Sadness</td>\n",
              "      <td>2</td>\n",
              "      <td>/content/Test/Sadness/JKsa02.wav</td>\n",
              "    </tr>\n",
              "  </tbody>\n",
              "</table>\n",
              "<p>360 rows × 4 columns</p>\n",
              "</div>\n",
              "    <div class=\"colab-df-buttons\">\n",
              "\n",
              "  <div class=\"colab-df-container\">\n",
              "    <button class=\"colab-df-convert\" onclick=\"convertToInteractive('df-22dac24b-db9c-4a06-aff2-10e64061fdb4')\"\n",
              "            title=\"Convert this dataframe to an interactive table.\"\n",
              "            style=\"display:none;\">\n",
              "\n",
              "  <svg xmlns=\"http://www.w3.org/2000/svg\" height=\"24px\" viewBox=\"0 -960 960 960\">\n",
              "    <path d=\"M120-120v-720h720v720H120Zm60-500h600v-160H180v160Zm220 220h160v-160H400v160Zm0 220h160v-160H400v160ZM180-400h160v-160H180v160Zm440 0h160v-160H620v160ZM180-180h160v-160H180v160Zm440 0h160v-160H620v160Z\"/>\n",
              "  </svg>\n",
              "    </button>\n",
              "\n",
              "  <style>\n",
              "    .colab-df-container {\n",
              "      display:flex;\n",
              "      gap: 12px;\n",
              "    }\n",
              "\n",
              "    .colab-df-convert {\n",
              "      background-color: #E8F0FE;\n",
              "      border: none;\n",
              "      border-radius: 50%;\n",
              "      cursor: pointer;\n",
              "      display: none;\n",
              "      fill: #1967D2;\n",
              "      height: 32px;\n",
              "      padding: 0 0 0 0;\n",
              "      width: 32px;\n",
              "    }\n",
              "\n",
              "    .colab-df-convert:hover {\n",
              "      background-color: #E2EBFA;\n",
              "      box-shadow: 0px 1px 2px rgba(60, 64, 67, 0.3), 0px 1px 3px 1px rgba(60, 64, 67, 0.15);\n",
              "      fill: #174EA6;\n",
              "    }\n",
              "\n",
              "    .colab-df-buttons div {\n",
              "      margin-bottom: 4px;\n",
              "    }\n",
              "\n",
              "    [theme=dark] .colab-df-convert {\n",
              "      background-color: #3B4455;\n",
              "      fill: #D2E3FC;\n",
              "    }\n",
              "\n",
              "    [theme=dark] .colab-df-convert:hover {\n",
              "      background-color: #434B5C;\n",
              "      box-shadow: 0px 1px 3px 1px rgba(0, 0, 0, 0.15);\n",
              "      filter: drop-shadow(0px 1px 2px rgba(0, 0, 0, 0.3));\n",
              "      fill: #FFFFFF;\n",
              "    }\n",
              "  </style>\n",
              "\n",
              "    <script>\n",
              "      const buttonEl =\n",
              "        document.querySelector('#df-22dac24b-db9c-4a06-aff2-10e64061fdb4 button.colab-df-convert');\n",
              "      buttonEl.style.display =\n",
              "        google.colab.kernel.accessAllowed ? 'block' : 'none';\n",
              "\n",
              "      async function convertToInteractive(key) {\n",
              "        const element = document.querySelector('#df-22dac24b-db9c-4a06-aff2-10e64061fdb4');\n",
              "        const dataTable =\n",
              "          await google.colab.kernel.invokeFunction('convertToInteractive',\n",
              "                                                    [key], {});\n",
              "        if (!dataTable) return;\n",
              "\n",
              "        const docLinkHtml = 'Like what you see? Visit the ' +\n",
              "          '<a target=\"_blank\" href=https://colab.research.google.com/notebooks/data_table.ipynb>data table notebook</a>'\n",
              "          + ' to learn more about interactive tables.';\n",
              "        element.innerHTML = '';\n",
              "        dataTable['output_type'] = 'display_data';\n",
              "        await google.colab.output.renderOutput(dataTable, element);\n",
              "        const docLink = document.createElement('div');\n",
              "        docLink.innerHTML = docLinkHtml;\n",
              "        element.appendChild(docLink);\n",
              "      }\n",
              "    </script>\n",
              "  </div>\n",
              "\n",
              "\n",
              "<div id=\"df-d4df6f5d-51e0-47e4-89f0-3021c738d18e\">\n",
              "  <button class=\"colab-df-quickchart\" onclick=\"quickchart('df-d4df6f5d-51e0-47e4-89f0-3021c738d18e')\"\n",
              "            title=\"Suggest charts\"\n",
              "            style=\"display:none;\">\n",
              "\n",
              "<svg xmlns=\"http://www.w3.org/2000/svg\" height=\"24px\"viewBox=\"0 0 24 24\"\n",
              "     width=\"24px\">\n",
              "    <g>\n",
              "        <path d=\"M19 3H5c-1.1 0-2 .9-2 2v14c0 1.1.9 2 2 2h14c1.1 0 2-.9 2-2V5c0-1.1-.9-2-2-2zM9 17H7v-7h2v7zm4 0h-2V7h2v10zm4 0h-2v-4h2v4z\"/>\n",
              "    </g>\n",
              "</svg>\n",
              "  </button>\n",
              "\n",
              "<style>\n",
              "  .colab-df-quickchart {\n",
              "      --bg-color: #E8F0FE;\n",
              "      --fill-color: #1967D2;\n",
              "      --hover-bg-color: #E2EBFA;\n",
              "      --hover-fill-color: #174EA6;\n",
              "      --disabled-fill-color: #AAA;\n",
              "      --disabled-bg-color: #DDD;\n",
              "  }\n",
              "\n",
              "  [theme=dark] .colab-df-quickchart {\n",
              "      --bg-color: #3B4455;\n",
              "      --fill-color: #D2E3FC;\n",
              "      --hover-bg-color: #434B5C;\n",
              "      --hover-fill-color: #FFFFFF;\n",
              "      --disabled-bg-color: #3B4455;\n",
              "      --disabled-fill-color: #666;\n",
              "  }\n",
              "\n",
              "  .colab-df-quickchart {\n",
              "    background-color: var(--bg-color);\n",
              "    border: none;\n",
              "    border-radius: 50%;\n",
              "    cursor: pointer;\n",
              "    display: none;\n",
              "    fill: var(--fill-color);\n",
              "    height: 32px;\n",
              "    padding: 0;\n",
              "    width: 32px;\n",
              "  }\n",
              "\n",
              "  .colab-df-quickchart:hover {\n",
              "    background-color: var(--hover-bg-color);\n",
              "    box-shadow: 0 1px 2px rgba(60, 64, 67, 0.3), 0 1px 3px 1px rgba(60, 64, 67, 0.15);\n",
              "    fill: var(--button-hover-fill-color);\n",
              "  }\n",
              "\n",
              "  .colab-df-quickchart-complete:disabled,\n",
              "  .colab-df-quickchart-complete:disabled:hover {\n",
              "    background-color: var(--disabled-bg-color);\n",
              "    fill: var(--disabled-fill-color);\n",
              "    box-shadow: none;\n",
              "  }\n",
              "\n",
              "  .colab-df-spinner {\n",
              "    border: 2px solid var(--fill-color);\n",
              "    border-color: transparent;\n",
              "    border-bottom-color: var(--fill-color);\n",
              "    animation:\n",
              "      spin 1s steps(1) infinite;\n",
              "  }\n",
              "\n",
              "  @keyframes spin {\n",
              "    0% {\n",
              "      border-color: transparent;\n",
              "      border-bottom-color: var(--fill-color);\n",
              "      border-left-color: var(--fill-color);\n",
              "    }\n",
              "    20% {\n",
              "      border-color: transparent;\n",
              "      border-left-color: var(--fill-color);\n",
              "      border-top-color: var(--fill-color);\n",
              "    }\n",
              "    30% {\n",
              "      border-color: transparent;\n",
              "      border-left-color: var(--fill-color);\n",
              "      border-top-color: var(--fill-color);\n",
              "      border-right-color: var(--fill-color);\n",
              "    }\n",
              "    40% {\n",
              "      border-color: transparent;\n",
              "      border-right-color: var(--fill-color);\n",
              "      border-top-color: var(--fill-color);\n",
              "    }\n",
              "    60% {\n",
              "      border-color: transparent;\n",
              "      border-right-color: var(--fill-color);\n",
              "    }\n",
              "    80% {\n",
              "      border-color: transparent;\n",
              "      border-right-color: var(--fill-color);\n",
              "      border-bottom-color: var(--fill-color);\n",
              "    }\n",
              "    90% {\n",
              "      border-color: transparent;\n",
              "      border-bottom-color: var(--fill-color);\n",
              "    }\n",
              "  }\n",
              "</style>\n",
              "\n",
              "  <script>\n",
              "    async function quickchart(key) {\n",
              "      const quickchartButtonEl =\n",
              "        document.querySelector('#' + key + ' button');\n",
              "      quickchartButtonEl.disabled = true;  // To prevent multiple clicks.\n",
              "      quickchartButtonEl.classList.add('colab-df-spinner');\n",
              "      try {\n",
              "        const charts = await google.colab.kernel.invokeFunction(\n",
              "            'suggestCharts', [key], {});\n",
              "      } catch (error) {\n",
              "        console.error('Error during call to suggestCharts:', error);\n",
              "      }\n",
              "      quickchartButtonEl.classList.remove('colab-df-spinner');\n",
              "      quickchartButtonEl.classList.add('colab-df-quickchart-complete');\n",
              "    }\n",
              "    (() => {\n",
              "      let quickchartButtonEl =\n",
              "        document.querySelector('#df-d4df6f5d-51e0-47e4-89f0-3021c738d18e button');\n",
              "      quickchartButtonEl.style.display =\n",
              "        google.colab.kernel.accessAllowed ? 'block' : 'none';\n",
              "    })();\n",
              "  </script>\n",
              "</div>\n",
              "    </div>\n",
              "  </div>\n"
            ],
            "application/vnd.google.colaboratory.intrinsic+json": {
              "type": "dataframe",
              "variable_name": "df",
              "summary": "{\n  \"name\": \"df\",\n  \"rows\": 360,\n  \"fields\": [\n    {\n      \"column\": \"Actor_ID\",\n      \"properties\": {\n        \"dtype\": \"category\",\n        \"num_unique_values\": 4,\n        \"samples\": [\n          \"JE\",\n          \"KL\",\n          \"JK\"\n        ],\n        \"semantic_type\": \"\",\n        \"description\": \"\"\n      }\n    },\n    {\n      \"column\": \"Emotion\",\n      \"properties\": {\n        \"dtype\": \"category\",\n        \"num_unique_values\": 5,\n        \"samples\": [\n          \"Disgust\",\n          \"Sadness\",\n          \"Happiness\"\n        ],\n        \"semantic_type\": \"\",\n        \"description\": \"\"\n      }\n    },\n    {\n      \"column\": \"Sentence\",\n      \"properties\": {\n        \"dtype\": \"number\",\n        \"std\": 7,\n        \"min\": 1,\n        \"max\": 30,\n        \"num_unique_values\": 30,\n        \"samples\": [\n          3,\n          22,\n          24\n        ],\n        \"semantic_type\": \"\",\n        \"description\": \"\"\n      }\n    },\n    {\n      \"column\": \"Path\",\n      \"properties\": {\n        \"dtype\": \"string\",\n        \"num_unique_values\": 360,\n        \"samples\": [\n          \"/content/Train/Sadness/KLsa11.wav\",\n          \"/content/Train/Anger/DCa10.wav\",\n          \"/content/Test/Disgust/KLd02.wav\"\n        ],\n        \"semantic_type\": \"\",\n        \"description\": \"\"\n      }\n    }\n  ]\n}"
            }
          },
          "metadata": {},
          "execution_count": 446
        }
      ]
    },
    {
      "cell_type": "code",
      "source": [
        "def find_eigen(A, iterations):\n",
        "    mu, sigma = 0, 1\n",
        "    x = np.random.normal(mu, sigma, size=A.shape[1])\n",
        "    B = A.T.dot(A)\n",
        "    for i in range(iterations):\n",
        "        new_x = B.dot(x)\n",
        "        x = new_x\n",
        "    v = x / np.linalg.norm(x)\n",
        "    sigma = np.linalg.norm(A.dot(v))\n",
        "    u = A.dot(v) / sigma\n",
        "    return np.reshape(\n",
        "        u, (A.shape[0], 1)), sigma, np.reshape(\n",
        "        v, (A.shape[1], 1))"
      ],
      "metadata": {
        "id": "zVIkvIucvxkx"
      },
      "execution_count": null,
      "outputs": []
    },
    {
      "cell_type": "code",
      "source": [
        "def power_svd(A):\n",
        "  rank = np.linalg.matrix_rank(A)\n",
        "\n",
        "  U = np.zeros((A.shape[0], 1))\n",
        "  S = []\n",
        "  V = np.zeros((A.shape[1], 1))\n",
        "\n",
        "  iterations = 15\n",
        "\n",
        "  # SVD using Power Method\n",
        "  for i in range(rank):\n",
        "    u, sigma, v = find_eigen(A, iterations)\n",
        "    U = np.hstack((U, u))\n",
        "    S.append(sigma)\n",
        "    V = np.hstack((V, v))\n",
        "    A = A - u.dot(v.T).dot(sigma)\n",
        "  return  U[:, 1:], S, V[:, 1:].T"
      ],
      "metadata": {
        "id": "PSob5Kxk5Zm5"
      },
      "execution_count": null,
      "outputs": []
    },
    {
      "cell_type": "code",
      "execution_count": null,
      "metadata": {
        "id": "qNbShKEUFsA9"
      },
      "outputs": [],
      "source": [
        "def reduced_svd(A):\n",
        "  '''\n",
        "  Input: any matrix A\n",
        "  Returns: tuple of matrix U, array of singular values and matrix V.T\n",
        "  '''\n",
        "  r = np.linalg.matrix_rank(A)\n",
        "\n",
        "  AtA = np.dot(A.T, A)\n",
        "  eigenvaluesV, eigenvectorsV = np.linalg.eig(AtA)\n",
        "\n",
        "  idxs = np.argsort(eigenvaluesV)[::-1]\n",
        "  V = np.array([ev[0:r] for ev in eigenvectorsV[:,idxs]])\n",
        "  eigenvaluesV=(np.sort(eigenvaluesV)[0:r])[::-1]\n",
        "\n",
        "  singular_values = np.sqrt(abs(eigenvaluesV))\n",
        "  norms = np.array([1/sv for sv in singular_values])\n",
        "\n",
        "  U = np.dot(A, np.dot(V, np.diag(norms)))\n",
        "  # print(\"U -> \\n\", U, \"\\nD -> \\n\", singular_values, \"\\nV -> \\n\", V.T)\n",
        "  return U, singular_values, V.T"
      ]
    },
    {
      "cell_type": "code",
      "execution_count": null,
      "metadata": {
        "id": "TZzegqT8KMEr"
      },
      "outputs": [],
      "source": [
        "def rank_svd(U, D, V, k = 20):\n",
        "  app = np.dot(np.dot(U[:,:k],np.diag(D[:k])), V[:k,:])\n",
        "  return app"
      ]
    },
    {
      "cell_type": "code",
      "execution_count": null,
      "metadata": {
        "colab": {
          "base_uri": "https://localhost:8080/"
        },
        "id": "aUoBKHQ8jsjc",
        "outputId": "4c8cc5ca-7c7f-4ad5-aa25-9464369f32a5"
      },
      "outputs": [
        {
          "output_type": "stream",
          "name": "stdout",
          "text": [
            "Accuracy: 0.7638888888888888\n",
            "Precision: 0.789906629318394\n",
            "Recall: 0.7638888888888888\n",
            "F1-score: 0.7577453873801667\n"
          ]
        }
      ],
      "source": [
        "clf = SVC(kernel='linear', C=0.1, decision_function_shape='ovo', break_ties=False)\n",
        "X_train, X_test, Y_train, Y_test = train_test_split(X, Y, test_size=0.2, random_state=42)\n",
        "U, D, V = reduced_svd(np.array(X_train))\n",
        "k = 15\n",
        "X_train_svd = rank_svd(U, D, V, k = k)\n",
        "\n",
        "clf.fit(X_train_svd, Y_train)\n",
        "\n",
        "Y_pred = clf.predict(X_test)\n",
        "print(\"Accuracy:\", accuracy_score(Y_test,Y_pred))\n",
        "\n",
        "precision, recall, f1_score, _ = precision_recall_fscore_support(Y_test, Y_pred, average='weighted')\n",
        "print(\"Precision:\", precision)\n",
        "print(\"Recall:\", recall)\n",
        "print(\"F1-score:\", f1_score)"
      ]
    },
    {
      "cell_type": "code",
      "source": [
        "clf1 = SVC(kernel='linear', C=0.1, decision_function_shape='ovo', break_ties=False)\n",
        "Up, Dp, Vp = power_svd(np.array(X_train))\n",
        "k1 = 20\n",
        "X_train_svd1 = rank_svd(Up, Dp, Vp, k = k1)\n",
        "\n",
        "clf1.fit(X_train_svd1, Y_train)\n",
        "\n",
        "Y_pred1 = clf1.predict(X_test)\n",
        "print(\"Accuracy:\", accuracy_score(Y_test,Y_pred1))\n",
        "\n",
        "precision1, recall1, f1_score1, _ = precision_recall_fscore_support(Y_test, Y_pred1, average='weighted')\n",
        "print(\"Precision:\", precision1)\n",
        "print(\"Recall:\", recall1)\n",
        "print(\"F1-score:\", f1_score1)"
      ],
      "metadata": {
        "colab": {
          "base_uri": "https://localhost:8080/"
        },
        "id": "zFZ17a1rUb2_",
        "outputId": "a9ba78f1-799d-4084-ec31-9664b0340ba9"
      },
      "execution_count": null,
      "outputs": [
        {
          "output_type": "stream",
          "name": "stdout",
          "text": [
            "Accuracy: 0.8055555555555556\n",
            "Precision: 0.8174048174048174\n",
            "Recall: 0.8055555555555556\n",
            "F1-score: 0.8038678109003313\n"
          ]
        }
      ]
    },
    {
      "cell_type": "code",
      "source": [
        "X_train, X_test, Y_train, Y_test = train_test_split(X, Y, test_size=0.2, random_state=42)\n",
        "U, D, V = reduced_svd(np.array(X_train))\n",
        "Up, Dp, Vp = power_svd(np.array(X_train))\n",
        "\n",
        "k_values = [10, 15, 20, 25, 30, 35, 40, 45, 50]\n",
        "accuracies = []\n",
        "accuracies1 = []\n",
        "\n",
        "for k in k_values:\n",
        "  clf = SVC(kernel='linear', C=0.1, decision_function_shape='ovo', break_ties=False)\n",
        "  X_train_svd = rank_svd(U, D, V, k=k)\n",
        "  clf.fit(X_train_svd, Y_train)\n",
        "  Y_pred = clf.predict(X_test)\n",
        "  accuracy = accuracy_score(Y_test, Y_pred)\n",
        "  accuracies.append(accuracy)\n",
        "\n",
        "  clf1 = SVC(kernel='linear', C=0.1, decision_function_shape='ovo', break_ties=False)\n",
        "  X_train_svd1 = rank_svd(Up, Dp, Vp, k = k)\n",
        "  clf1.fit(X_train_svd1, Y_train)\n",
        "  Y_pred1 = clf1.predict(X_test)\n",
        "  accuracy1 = accuracy_score(Y_test, Y_pred1)\n",
        "  accuracies1.append(accuracy1)\n"
      ],
      "metadata": {
        "id": "z98WHEUHdeQG"
      },
      "execution_count": null,
      "outputs": []
    },
    {
      "cell_type": "code",
      "source": [
        "data = []\n",
        "\n",
        "for k, accuracy, accuracy1 in zip(k_values, accuracies, accuracies1):\n",
        "    data.append({'k': k, 'accuracy_eigen': accuracy, 'accuracy_manually': accuracy1})\n",
        "\n",
        "df = pd.DataFrame(data)\n",
        "\n",
        "plt.figure(figsize=(10, 6))\n",
        "\n",
        "bar_width = 1.5\n",
        "index = df['k']\n",
        "\n",
        "plt.bar(index - bar_width/2, df['accuracy_eigen'], bar_width, label='SVD using library functions', color = \"#FFEBB8\")\n",
        "plt.bar(index + bar_width/2, df['accuracy_manually'], bar_width, label='SVD using power method', color = \"#C0DEAD\")\n",
        "\n",
        "plt.title('Comparison of Accuracy Scores for Different SVD Implementations')\n",
        "plt.xlabel('k values')\n",
        "plt.ylabel('Accuracy')\n",
        "plt.xticks(index, k_values)\n",
        "plt.legend()\n",
        "plt.grid(True)\n",
        "plt.tight_layout()\n",
        "plt.show()"
      ],
      "metadata": {
        "colab": {
          "base_uri": "https://localhost:8080/",
          "height": 607
        },
        "id": "5Vs19YAglJCI",
        "outputId": "b2040676-6464-4a3c-afa3-5cf894bd8280"
      },
      "execution_count": null,
      "outputs": [
        {
          "output_type": "display_data",
          "data": {
            "text/plain": [
              "<Figure size 1000x600 with 1 Axes>"
            ],
            "image/png": "[encoded data removed]"
          },
          "metadata": {}
        }
      ]
    }
  ],
  "metadata": {
    "colab": {
      "provenance": []
    },
    "kernelspec": {
      "display_name": "Python 3",
      "name": "python3"
    },
    "language_info": {
      "name": "python"
    }
  },
  "nbformat": 4,
  "nbformat_minor": 0
}
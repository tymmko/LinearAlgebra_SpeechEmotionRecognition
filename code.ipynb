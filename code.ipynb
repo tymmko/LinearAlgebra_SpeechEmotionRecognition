{
  "cells": [
    {
      "cell_type": "code",
      "execution_count": null,
      "metadata": {
        "id": "qPIFsUj-w1yW"
      },
      "outputs": [],
      "source": [
        "import zipfile\n",
        "from google.colab import drive\n",
        "import os\n",
        "import librosa\n",
        "import librosa.display\n",
        "import math\n",
        "import numpy as np\n",
        "import pandas as pd\n",
        "from sklearn.svm import SVC\n",
        "from sklearn.metrics import accuracy_score, precision_recall_fscore_support, confusion_matrix, ConfusionMatrixDisplay\n",
        "from sklearn.model_selection import train_test_split\n",
        "from sklearn.preprocessing import LabelEncoder\n",
        "import matplotlib.pyplot as plt\n",
        "import seaborn as sns"
      ]
    },
    {
      "cell_type": "code",
      "execution_count": null,
      "metadata": {
        "colab": {
          "base_uri": "https://localhost:8080/"
        },
        "id": "MrprBr-kKY-S",
        "outputId": "870214fd-56b8-493b-c87b-37b7c54fed7f"
      },
      "outputs": [
        {
          "output_type": "stream",
          "name": "stdout",
          "text": [
            "Mounted at /content/drive\n"
          ]
        }
      ],
      "source": [
        "from google.colab import drive\n",
        "drive.mount('/content/drive')"
      ]
    },
    {
      "cell_type": "code",
      "execution_count": null,
      "metadata": {
        "colab": {
          "base_uri": "https://localhost:8080/"
        },
        "id": "pDWHqBBVYFv7",
        "outputId": "7ba036b9-369b-4236-d59a-df57fdb3a507"
      },
      "outputs": [
        {
          "output_type": "stream",
          "name": "stdout",
          "text": [
            "Drive already mounted at /content/drive; to attempt to forcibly remount, call drive.mount(\"/content/drive\", force_remount=True).\n"
          ]
        }
      ],
      "source": [
        "drive.mount('/content/drive')\n",
        "\n",
        "zip_ref = zipfile.ZipFile(\"/content/drive/My Drive/Archive.zip\", 'r')\n",
        "# zip_ref = zipfile.ZipFile(\"/content/drive/My Drive/RAVDESSemotions1.zip\", 'r')\n",
        "zip_ref.extractall(\"/content\")\n",
        "zip_ref.close()"
      ]
    },
    {
      "cell_type": "code",
      "execution_count": null,
      "metadata": {
        "id": "LmavbGGO3SKt"
      },
      "outputs": [],
      "source": [
        "# take a look at our dataset\n",
        "data = { 'Actor_ID': [],\n",
        "         'Emotion': [],\n",
        "         'Sentence': [],\n",
        "         'Path': [] }"
      ]
    },
    {
      "cell_type": "code",
      "execution_count": null,
      "metadata": {
        "id": "q9Bqyemh3Xar"
      },
      "outputs": [],
      "source": [
        "def dataset_construction(condition, emotion):\n",
        "  path = '/content/' + condition + \"/\" + emotion + '/'\n",
        "  audios = os.listdir(path)\n",
        "  for audio in audios:\n",
        "    if audio == '.DS_Store':\n",
        "      continue\n",
        "\n",
        "    # actor_id\n",
        "    data['Actor_ID'].append(audio[:2])\n",
        "\n",
        "    # emotion\n",
        "    data['Emotion'].append(emotion)\n",
        "\n",
        "    # sentence\n",
        "    sentence_number = audio[-6:-4]\n",
        "    data['Sentence'].append(int(sentence_number))\n",
        "\n",
        "    # path\n",
        "    data['Path'].append(path + audio)"
      ]
    },
    {
      "cell_type": "code",
      "execution_count": null,
      "metadata": {
        "id": "HccwrThLv-tP"
      },
      "outputs": [],
      "source": [
        "X_train, Y_train = [], []\n",
        "X_test, Y_test = [], []\n",
        "X,Y = [],[]\n",
        "\n",
        "def mfcc_extraction(condition, emotion, features_num = 29):\n",
        "  path = '/content/' + condition + \"/\" + emotion + '/'\n",
        "  audios = os.listdir(path)\n",
        "\n",
        "  # features_num = 29\n",
        "\n",
        "  mean_features = [] # mean for each audio\n",
        "  emotion_labels = [] # emotions for each audio will be saved here\n",
        "\n",
        "  for audio in audios:\n",
        "    if audio == '.DS_Store':\n",
        "      continue\n",
        "    x, sr = librosa.load(path+audio, sr = 22050 * 2) # 22050 * 2 due to improving audio quality\n",
        "\n",
        "    mean_mfccs = np.mean(librosa.feature.mfcc(y=x, sr=sr, n_mfcc=features_num).T,axis=0)\n",
        "    mean_mfccs=np.append(mean_mfccs, np.diff(mean_mfccs))\n",
        "    mean_mfccs=np.append(mean_mfccs, np.diff(np.diff(mean_mfccs)))\n",
        "    mean_features.append(mean_mfccs)\n",
        "    emotion_labels.append(emotion)\n",
        "\n",
        "\n",
        "  return mean_features, emotion_labels"
      ]
    },
    {
      "cell_type": "code",
      "execution_count": null,
      "metadata": {
        "id": "heYP1IFTv_h8"
      },
      "outputs": [],
      "source": [
        "def prepare_datasets(features_num = 29):\n",
        "  conditions = ['Train', 'Test']\n",
        "  emotions = [\"Anger\", \"Disgust\", \"Fear\", \"Happiness\", \"Neutral\", \"Sadness\", \"Surprise\"] #SAVEE\n",
        "\n",
        "  for condition in conditions:\n",
        "    for emotion in emotions:\n",
        "      mean_features, emotion_labels = mfcc_extraction(condition, emotion)\n",
        "      dataset_construction(condition, emotion)\n",
        "      X.extend(mean_features)\n",
        "      Y.extend(emotion_labels)"
      ]
    },
    {
      "cell_type": "code",
      "execution_count": null,
      "metadata": {
        "id": "OB78mnvS5Rby"
      },
      "outputs": [],
      "source": [
        "prepare_datasets()"
      ]
    },
    {
      "cell_type": "code",
      "execution_count": null,
      "metadata": {
        "colab": {
          "base_uri": "https://localhost:8080/",
          "height": 419
        },
        "id": "GFqpkaUC5DUl",
        "outputId": "9c5f8288-0ea5-4477-8ba9-14150f3b58b7"
      },
      "outputs": [
        {
          "output_type": "execute_result",
          "data": {
            "text/plain": [
              "    Actor_ID   Emotion  Sentence                               Path\n",
              "0         KL     Anger        12     /content/Train/Anger/KLa12.wav\n",
              "1         JE     Anger         5     /content/Train/Anger/JEa05.wav\n",
              "2         JK     Anger         5     /content/Train/Anger/JKa05.wav\n",
              "3         DC     Anger         7     /content/Train/Anger/DCa07.wav\n",
              "4         KL     Anger        13     /content/Train/Anger/KLa13.wav\n",
              "..       ...       ...       ...                                ...\n",
              "475       JK  Surprise         3  /content/Test/Surprise/JKsu03.wav\n",
              "476       KL  Surprise         4  /content/Test/Surprise/KLsu04.wav\n",
              "477       KL  Surprise         1  /content/Test/Surprise/KLsu01.wav\n",
              "478       KL  Surprise         3  /content/Test/Surprise/KLsu03.wav\n",
              "479       JK  Surprise         2  /content/Test/Surprise/JKsu02.wav\n",
              "\n",
              "[480 rows x 4 columns]"
            ],
            "text/html": [
              "\n",
              "  <div id=\"df-241ea84d-d1e0-4e06-9d0f-fc3158da7cac\" class=\"colab-df-container\">\n",
              "    <div>\n",
              "<style scoped>\n",
              "    .dataframe tbody tr th:only-of-type {\n",
              "        vertical-align: middle;\n",
              "    }\n",
              "\n",
              "    .dataframe tbody tr th {\n",
              "        vertical-align: top;\n",
              "    }\n",
              "\n",
              "    .dataframe thead th {\n",
              "        text-align: right;\n",
              "    }\n",
              "</style>\n",
              "<table border=\"1\" class=\"dataframe\">\n",
              "  <thead>\n",
              "    <tr style=\"text-align: right;\">\n",
              "      <th></th>\n",
              "      <th>Actor_ID</th>\n",
              "      <th>Emotion</th>\n",
              "      <th>Sentence</th>\n",
              "      <th>Path</th>\n",
              "    </tr>\n",
              "  </thead>\n",
              "  <tbody>\n",
              "    <tr>\n",
              "      <th>0</th>\n",
              "      <td>KL</td>\n",
              "      <td>Anger</td>\n",
              "      <td>12</td>\n",
              "      <td>/content/Train/Anger/KLa12.wav</td>\n",
              "    </tr>\n",
              "    <tr>\n",
              "      <th>1</th>\n",
              "      <td>JE</td>\n",
              "      <td>Anger</td>\n",
              "      <td>5</td>\n",
              "      <td>/content/Train/Anger/JEa05.wav</td>\n",
              "    </tr>\n",
              "    <tr>\n",
              "      <th>2</th>\n",
              "      <td>JK</td>\n",
              "      <td>Anger</td>\n",
              "      <td>5</td>\n",
              "      <td>/content/Train/Anger/JKa05.wav</td>\n",
              "    </tr>\n",
              "    <tr>\n",
              "      <th>3</th>\n",
              "      <td>DC</td>\n",
              "      <td>Anger</td>\n",
              "      <td>7</td>\n",
              "      <td>/content/Train/Anger/DCa07.wav</td>\n",
              "    </tr>\n",
              "    <tr>\n",
              "      <th>4</th>\n",
              "      <td>KL</td>\n",
              "      <td>Anger</td>\n",
              "      <td>13</td>\n",
              "      <td>/content/Train/Anger/KLa13.wav</td>\n",
              "    </tr>\n",
              "    <tr>\n",
              "      <th>...</th>\n",
              "      <td>...</td>\n",
              "      <td>...</td>\n",
              "      <td>...</td>\n",
              "      <td>...</td>\n",
              "    </tr>\n",
              "    <tr>\n",
              "      <th>475</th>\n",
              "      <td>JK</td>\n",
              "      <td>Surprise</td>\n",
              "      <td>3</td>\n",
              "      <td>/content/Test/Surprise/JKsu03.wav</td>\n",
              "    </tr>\n",
              "    <tr>\n",
              "      <th>476</th>\n",
              "      <td>KL</td>\n",
              "      <td>Surprise</td>\n",
              "      <td>4</td>\n",
              "      <td>/content/Test/Surprise/KLsu04.wav</td>\n",
              "    </tr>\n",
              "    <tr>\n",
              "      <th>477</th>\n",
              "      <td>KL</td>\n",
              "      <td>Surprise</td>\n",
              "      <td>1</td>\n",
              "      <td>/content/Test/Surprise/KLsu01.wav</td>\n",
              "    </tr>\n",
              "    <tr>\n",
              "      <th>478</th>\n",
              "      <td>KL</td>\n",
              "      <td>Surprise</td>\n",
              "      <td>3</td>\n",
              "      <td>/content/Test/Surprise/KLsu03.wav</td>\n",
              "    </tr>\n",
              "    <tr>\n",
              "      <th>479</th>\n",
              "      <td>JK</td>\n",
              "      <td>Surprise</td>\n",
              "      <td>2</td>\n",
              "      <td>/content/Test/Surprise/JKsu02.wav</td>\n",
              "    </tr>\n",
              "  </tbody>\n",
              "</table>\n",
              "<p>480 rows × 4 columns</p>\n",
              "</div>\n",
              "    <div class=\"colab-df-buttons\">\n",
              "\n",
              "  <div class=\"colab-df-container\">\n",
              "    <button class=\"colab-df-convert\" onclick=\"convertToInteractive('df-241ea84d-d1e0-4e06-9d0f-fc3158da7cac')\"\n",
              "            title=\"Convert this dataframe to an interactive table.\"\n",
              "            style=\"display:none;\">\n",
              "\n",
              "  <svg xmlns=\"http://www.w3.org/2000/svg\" height=\"24px\" viewBox=\"0 -960 960 960\">\n",
              "    <path d=\"M120-120v-720h720v720H120Zm60-500h600v-160H180v160Zm220 220h160v-160H400v160Zm0 220h160v-160H400v160ZM180-400h160v-160H180v160Zm440 0h160v-160H620v160ZM180-180h160v-160H180v160Zm440 0h160v-160H620v160Z\"/>\n",
              "  </svg>\n",
              "    </button>\n",
              "\n",
              "  <style>\n",
              "    .colab-df-container {\n",
              "      display:flex;\n",
              "      gap: 12px;\n",
              "    }\n",
              "\n",
              "    .colab-df-convert {\n",
              "      background-color: #E8F0FE;\n",
              "      border: none;\n",
              "      border-radius: 50%;\n",
              "      cursor: pointer;\n",
              "      display: none;\n",
              "      fill: #1967D2;\n",
              "      height: 32px;\n",
              "      padding: 0 0 0 0;\n",
              "      width: 32px;\n",
              "    }\n",
              "\n",
              "    .colab-df-convert:hover {\n",
              "      background-color: #E2EBFA;\n",
              "      box-shadow: 0px 1px 2px rgba(60, 64, 67, 0.3), 0px 1px 3px 1px rgba(60, 64, 67, 0.15);\n",
              "      fill: #174EA6;\n",
              "    }\n",
              "\n",
              "    .colab-df-buttons div {\n",
              "      margin-bottom: 4px;\n",
              "    }\n",
              "\n",
              "    [theme=dark] .colab-df-convert {\n",
              "      background-color: #3B4455;\n",
              "      fill: #D2E3FC;\n",
              "    }\n",
              "\n",
              "    [theme=dark] .colab-df-convert:hover {\n",
              "      background-color: #434B5C;\n",
              "      box-shadow: 0px 1px 3px 1px rgba(0, 0, 0, 0.15);\n",
              "      filter: drop-shadow(0px 1px 2px rgba(0, 0, 0, 0.3));\n",
              "      fill: #FFFFFF;\n",
              "    }\n",
              "  </style>\n",
              "\n",
              "    <script>\n",
              "      const buttonEl =\n",
              "        document.querySelector('#df-241ea84d-d1e0-4e06-9d0f-fc3158da7cac button.colab-df-convert');\n",
              "      buttonEl.style.display =\n",
              "        google.colab.kernel.accessAllowed ? 'block' : 'none';\n",
              "\n",
              "      async function convertToInteractive(key) {\n",
              "        const element = document.querySelector('#df-241ea84d-d1e0-4e06-9d0f-fc3158da7cac');\n",
              "        const dataTable =\n",
              "          await google.colab.kernel.invokeFunction('convertToInteractive',\n",
              "                                                    [key], {});\n",
              "        if (!dataTable) return;\n",
              "\n",
              "        const docLinkHtml = 'Like what you see? Visit the ' +\n",
              "          '<a target=\"_blank\" href=https://colab.research.google.com/notebooks/data_table.ipynb>data table notebook</a>'\n",
              "          + ' to learn more about interactive tables.';\n",
              "        element.innerHTML = '';\n",
              "        dataTable['output_type'] = 'display_data';\n",
              "        await google.colab.output.renderOutput(dataTable, element);\n",
              "        const docLink = document.createElement('div');\n",
              "        docLink.innerHTML = docLinkHtml;\n",
              "        element.appendChild(docLink);\n",
              "      }\n",
              "    </script>\n",
              "  </div>\n",
              "\n",
              "\n",
              "<div id=\"df-c0239e41-dbd3-4392-a400-0993997cb599\">\n",
              "  <button class=\"colab-df-quickchart\" onclick=\"quickchart('df-c0239e41-dbd3-4392-a400-0993997cb599')\"\n",
              "            title=\"Suggest charts\"\n",
              "            style=\"display:none;\">\n",
              "\n",
              "<svg xmlns=\"http://www.w3.org/2000/svg\" height=\"24px\"viewBox=\"0 0 24 24\"\n",
              "     width=\"24px\">\n",
              "    <g>\n",
              "        <path d=\"M19 3H5c-1.1 0-2 .9-2 2v14c0 1.1.9 2 2 2h14c1.1 0 2-.9 2-2V5c0-1.1-.9-2-2-2zM9 17H7v-7h2v7zm4 0h-2V7h2v10zm4 0h-2v-4h2v4z\"/>\n",
              "    </g>\n",
              "</svg>\n",
              "  </button>\n",
              "\n",
              "<style>\n",
              "  .colab-df-quickchart {\n",
              "      --bg-color: #E8F0FE;\n",
              "      --fill-color: #1967D2;\n",
              "      --hover-bg-color: #E2EBFA;\n",
              "      --hover-fill-color: #174EA6;\n",
              "      --disabled-fill-color: #AAA;\n",
              "      --disabled-bg-color: #DDD;\n",
              "  }\n",
              "\n",
              "  [theme=dark] .colab-df-quickchart {\n",
              "      --bg-color: #3B4455;\n",
              "      --fill-color: #D2E3FC;\n",
              "      --hover-bg-color: #434B5C;\n",
              "      --hover-fill-color: #FFFFFF;\n",
              "      --disabled-bg-color: #3B4455;\n",
              "      --disabled-fill-color: #666;\n",
              "  }\n",
              "\n",
              "  .colab-df-quickchart {\n",
              "    background-color: var(--bg-color);\n",
              "    border: none;\n",
              "    border-radius: 50%;\n",
              "    cursor: pointer;\n",
              "    display: none;\n",
              "    fill: var(--fill-color);\n",
              "    height: 32px;\n",
              "    padding: 0;\n",
              "    width: 32px;\n",
              "  }\n",
              "\n",
              "  .colab-df-quickchart:hover {\n",
              "    background-color: var(--hover-bg-color);\n",
              "    box-shadow: 0 1px 2px rgba(60, 64, 67, 0.3), 0 1px 3px 1px rgba(60, 64, 67, 0.15);\n",
              "    fill: var(--button-hover-fill-color);\n",
              "  }\n",
              "\n",
              "  .colab-df-quickchart-complete:disabled,\n",
              "  .colab-df-quickchart-complete:disabled:hover {\n",
              "    background-color: var(--disabled-bg-color);\n",
              "    fill: var(--disabled-fill-color);\n",
              "    box-shadow: none;\n",
              "  }\n",
              "\n",
              "  .colab-df-spinner {\n",
              "    border: 2px solid var(--fill-color);\n",
              "    border-color: transparent;\n",
              "    border-bottom-color: var(--fill-color);\n",
              "    animation:\n",
              "      spin 1s steps(1) infinite;\n",
              "  }\n",
              "\n",
              "  @keyframes spin {\n",
              "    0% {\n",
              "      border-color: transparent;\n",
              "      border-bottom-color: var(--fill-color);\n",
              "      border-left-color: var(--fill-color);\n",
              "    }\n",
              "    20% {\n",
              "      border-color: transparent;\n",
              "      border-left-color: var(--fill-color);\n",
              "      border-top-color: var(--fill-color);\n",
              "    }\n",
              "    30% {\n",
              "      border-color: transparent;\n",
              "      border-left-color: var(--fill-color);\n",
              "      border-top-color: var(--fill-color);\n",
              "      border-right-color: var(--fill-color);\n",
              "    }\n",
              "    40% {\n",
              "      border-color: transparent;\n",
              "      border-right-color: var(--fill-color);\n",
              "      border-top-color: var(--fill-color);\n",
              "    }\n",
              "    60% {\n",
              "      border-color: transparent;\n",
              "      border-right-color: var(--fill-color);\n",
              "    }\n",
              "    80% {\n",
              "      border-color: transparent;\n",
              "      border-right-color: var(--fill-color);\n",
              "      border-bottom-color: var(--fill-color);\n",
              "    }\n",
              "    90% {\n",
              "      border-color: transparent;\n",
              "      border-bottom-color: var(--fill-color);\n",
              "    }\n",
              "  }\n",
              "</style>\n",
              "\n",
              "  <script>\n",
              "    async function quickchart(key) {\n",
              "      const quickchartButtonEl =\n",
              "        document.querySelector('#' + key + ' button');\n",
              "      quickchartButtonEl.disabled = true;  // To prevent multiple clicks.\n",
              "      quickchartButtonEl.classList.add('colab-df-spinner');\n",
              "      try {\n",
              "        const charts = await google.colab.kernel.invokeFunction(\n",
              "            'suggestCharts', [key], {});\n",
              "      } catch (error) {\n",
              "        console.error('Error during call to suggestCharts:', error);\n",
              "      }\n",
              "      quickchartButtonEl.classList.remove('colab-df-spinner');\n",
              "      quickchartButtonEl.classList.add('colab-df-quickchart-complete');\n",
              "    }\n",
              "    (() => {\n",
              "      let quickchartButtonEl =\n",
              "        document.querySelector('#df-c0239e41-dbd3-4392-a400-0993997cb599 button');\n",
              "      quickchartButtonEl.style.display =\n",
              "        google.colab.kernel.accessAllowed ? 'block' : 'none';\n",
              "    })();\n",
              "  </script>\n",
              "</div>\n",
              "    </div>\n",
              "  </div>\n"
            ],
            "application/vnd.google.colaboratory.intrinsic+json": {
              "type": "dataframe",
              "variable_name": "df",
              "summary": "{\n  \"name\": \"df\",\n  \"rows\": 480,\n  \"fields\": [\n    {\n      \"column\": \"Actor_ID\",\n      \"properties\": {\n        \"dtype\": \"category\",\n        \"num_unique_values\": 4,\n        \"samples\": [\n          \"JE\",\n          \"DC\",\n          \"KL\"\n        ],\n        \"semantic_type\": \"\",\n        \"description\": \"\"\n      }\n    },\n    {\n      \"column\": \"Emotion\",\n      \"properties\": {\n        \"dtype\": \"category\",\n        \"num_unique_values\": 7,\n        \"samples\": [\n          \"Anger\",\n          \"Disgust\",\n          \"Sadness\"\n        ],\n        \"semantic_type\": \"\",\n        \"description\": \"\"\n      }\n    },\n    {\n      \"column\": \"Sentence\",\n      \"properties\": {\n        \"dtype\": \"number\",\n        \"std\": 6,\n        \"min\": 1,\n        \"max\": 30,\n        \"num_unique_values\": 30,\n        \"samples\": [\n          1,\n          30,\n          17\n        ],\n        \"semantic_type\": \"\",\n        \"description\": \"\"\n      }\n    },\n    {\n      \"column\": \"Path\",\n      \"properties\": {\n        \"dtype\": \"string\",\n        \"num_unique_values\": 480,\n        \"samples\": [\n          \"/content/Train/Disgust/DCd11.wav\",\n          \"/content/Test/Neutral/KLn13.wav\",\n          \"/content/Test/Fear/KLf02.wav\"\n        ],\n        \"semantic_type\": \"\",\n        \"description\": \"\"\n      }\n    }\n  ]\n}"
            }
          },
          "metadata": {},
          "execution_count": 9
        }
      ],
      "source": [
        "df = pd.DataFrame(data)\n",
        "df"
      ]
    },
    {
      "cell_type": "code",
      "execution_count": null,
      "metadata": {
        "id": "zVIkvIucvxkx"
      },
      "outputs": [],
      "source": [
        "def find_eigen(A, iterations):\n",
        "    mu, sigma = 0, 1\n",
        "    x = np.random.normal(mu, sigma, size=A.shape[1])\n",
        "    B = A.T.dot(A)\n",
        "    for i in range(iterations):\n",
        "        new_x = B.dot(x)\n",
        "        x = new_x\n",
        "    v = x / np.linalg.norm(x)\n",
        "    sigma = np.linalg.norm(A.dot(v))\n",
        "    u = A.dot(v) / sigma\n",
        "    return np.reshape(\n",
        "        u, (A.shape[0], 1)), sigma, np.reshape(\n",
        "        v, (A.shape[1], 1))"
      ]
    },
    {
      "cell_type": "code",
      "execution_count": null,
      "metadata": {
        "id": "PSob5Kxk5Zm5"
      },
      "outputs": [],
      "source": [
        "def power_svd(A):\n",
        "  rank = np.linalg.matrix_rank(A)\n",
        "\n",
        "  U = np.zeros((A.shape[0], 1))\n",
        "  S = []\n",
        "  V = np.zeros((A.shape[1], 1))\n",
        "\n",
        "  iterations = 15\n",
        "\n",
        "  # SVD using Power Method\n",
        "  for i in range(rank):\n",
        "    u, sigma, v = find_eigen(A, iterations)\n",
        "    U = np.hstack((U, u))\n",
        "    S.append(sigma)\n",
        "    V = np.hstack((V, v))\n",
        "    A = A - u.dot(v.T).dot(sigma)\n",
        "  return  U[:, 1:], S, V[:, 1:].T"
      ]
    },
    {
      "cell_type": "code",
      "execution_count": null,
      "metadata": {
        "id": "qNbShKEUFsA9"
      },
      "outputs": [],
      "source": [
        "def reduced_svd(A):\n",
        "  '''\n",
        "  Input: any matrix A\n",
        "  Returns: tuple of matrix U, array of singular values and matrix V.T\n",
        "  '''\n",
        "  r = np.linalg.matrix_rank(A)\n",
        "\n",
        "  AtA = np.dot(A.T, A)\n",
        "  eigenvaluesV, eigenvectorsV = np.linalg.eig(AtA)\n",
        "\n",
        "  idxs = np.argsort(eigenvaluesV)[::-1]\n",
        "  V = np.array([ev[0:r] for ev in eigenvectorsV[:,idxs]])\n",
        "  eigenvaluesV=(np.sort(eigenvaluesV)[0:r])[::-1]\n",
        "\n",
        "  singular_values = np.sqrt(abs(eigenvaluesV))\n",
        "  norms = np.array([1/sv for sv in singular_values])\n",
        "\n",
        "  U = np.dot(A, np.dot(V, np.diag(norms)))\n",
        "  # print(\"U -> \\n\", U, \"\\nD -> \\n\", singular_values, \"\\nV -> \\n\", V.T)\n",
        "  return U, singular_values, V.T"
      ]
    },
    {
      "cell_type": "code",
      "execution_count": null,
      "metadata": {
        "colab": {
          "base_uri": "https://localhost:8080/"
        },
        "id": "aUoBKHQ8jsjc",
        "outputId": "af4bf7b1-b2da-4a01-a869-cef7ade79d36"
      },
      "outputs": [
        {
          "output_type": "stream",
          "name": "stdout",
          "text": [
            "Accuracy: 0.667\n",
            "Precision: 0.669\n",
            "Recall: 0.667\n",
            "F1-score: 0.663\n",
            "Confusion Matrix:\n",
            "[[ 9  0  1  1  0  0  0]\n",
            " [ 2 12  0  0  0  1  1]\n",
            " [ 0  0  6  2  0  0  1]\n",
            " [ 0  0  1  7  0  0  2]\n",
            " [ 1  2  1  0 16  3  0]\n",
            " [ 0  1  0  1  6  3  0]\n",
            " [ 0  0  4  1  0  0 11]]\n"
          ]
        }
      ],
      "source": [
        "clf = SVC(kernel='linear', C=0.1, decision_function_shape='ovo', break_ties=False)\n",
        "X_train, X_test, Y_train, Y_test = train_test_split(X, Y, test_size=0.2, random_state=42)\n",
        "U, D, V = reduced_svd(np.array(X_train))\n",
        "k = 20\n",
        "\n",
        "U_train = np.dot(U[:,:k], np.diag(D[:k]))\n",
        "clf.fit(U_train, Y_train)\n",
        "\n",
        "# X_test_coords = np.dot(X_test, np.dot(V[:k,:].T, np.diag(np.array([1/sv for sv in D[:k]]))))\n",
        "X_test_coords = np.dot(X_test, V[:k,:].T)\n",
        "\n",
        "Y_pred = clf.predict(X_test_coords)\n",
        "accuracy = accuracy_score(Y_test, Y_pred)\n",
        "print(\"Accuracy:\", round(accuracy, 3))\n",
        "\n",
        "# Calculate precision, recall, and F1-score\n",
        "precision, recall, f1_score, _ = precision_recall_fscore_support(Y_test, Y_pred, average='weighted')\n",
        "print(\"Precision:\", round(precision, 3))\n",
        "print(\"Recall:\", round(recall, 3))\n",
        "print(\"F1-score:\", round(f1_score, 3))\n",
        "conf_matrix = confusion_matrix(Y_test, Y_pred)\n",
        "print(\"Confusion Matrix:\")\n",
        "print(conf_matrix)"
      ]
    },
    {
      "cell_type": "code",
      "execution_count": null,
      "metadata": {
        "colab": {
          "base_uri": "https://localhost:8080/",
          "height": 632
        },
        "id": "zFZ17a1rUb2_",
        "outputId": "a2d6b361-8fac-4bed-b238-213e9fbaa9dd"
      },
      "outputs": [
        {
          "output_type": "stream",
          "name": "stdout",
          "text": [
            "Accuracy: 0.667\n",
            "Precision: 0.669\n",
            "Recall: 0.667\n",
            "F1-score: 0.663\n",
            "Confusion Matrix:\n"
          ]
        },
        {
          "output_type": "display_data",
          "data": {
            "text/plain": [
              "<Figure size 1000x600 with 1 Axes>"
            ],
            "image/png": "[encoded data removed]"
          },
          "metadata": {}
        }
      ],
      "source": [
        "clf_p = SVC(kernel='linear', C=0.1, decision_function_shape='ovo', break_ties=False)\n",
        "Up, Dp, Vp = power_svd(np.array(X_train))\n",
        "\n",
        "U_train_p = np.dot(Up[:,:k], np.diag(Dp[:k]))\n",
        "\n",
        "clf_p.fit(U_train_p, Y_train)\n",
        "\n",
        "# X_test_p = np.dot(X_test, np.dot(Vp[:k,:].T, np.diag(np.array([1/sv for sv in Dp[:k]]))))\n",
        "X_test_p_coords = np.dot(X_test, Vp[:k,:].T)\n",
        "\n",
        "Y_pred_p = clf_p.predict(X_test_p_coords)\n",
        "print(\"Accuracy:\", round(accuracy_score(Y_test,Y_pred_p), 3))\n",
        "\n",
        "precision_p, recall_p, f1_score_p, _ = precision_recall_fscore_support(Y_test, Y_pred_p, average='weighted')\n",
        "print(\"Precision:\", round(precision_p, 3))\n",
        "print(\"Recall:\", round(recall_p, 3))\n",
        "print(\"F1-score:\", round(f1_score_p, 3))\n",
        "conf_matrix = confusion_matrix(Y_test, Y_pred_p)\n",
        "print(\"Confusion Matrix:\")\n",
        "plt.figure(figsize=[10,6])\n",
        "sns.heatmap(conf_matrix, cmap='Blues', cbar=False, annot=True)\n",
        "plt.xticks(np.arange(7)+0.5,clf.classes_)\n",
        "plt.yticks(np.arange(7)+0.5,clf.classes_)\n",
        "\n",
        "font = {'family': 'serif',\n",
        "        'color':  'black',\n",
        "        'weight': 'normal',\n",
        "        'size': 15,\n",
        "        }\n",
        "plt.xlabel(\"Predicted Classes\", fontdict=font)\n",
        "plt.ylabel(\"Actual Classes\",fontdict=font)\n",
        "plt.show()"
      ]
    },
    {
      "cell_type": "code",
      "execution_count": null,
      "metadata": {
        "id": "z98WHEUHdeQG"
      },
      "outputs": [],
      "source": [
        "k_values = [10, 15, 20, 25, 30, 35, 40, 45, 50]\n",
        "accuracies = []\n",
        "accuracies_p = []\n",
        "\n",
        "for k1 in k_values:\n",
        "  clf = SVC(kernel='linear', C=0.1, decision_function_shape='ovo', break_ties=False)\n",
        "  U_train = np.dot(U[:,:k1], np.diag(D[:k1]))\n",
        "  clf.fit(U_train, Y_train)\n",
        "  X_test_coords = np.dot(X_test, V[:k1,:].T)\n",
        "  Y_pred = clf.predict(X_test_coords)\n",
        "  accuracy = accuracy_score(Y_test, Y_pred)\n",
        "  accuracies.append(accuracy)\n",
        "\n",
        "  clf_p = SVC(kernel='linear', C=0.1, decision_function_shape='ovo', break_ties=False)\n",
        "  Up_train = np.dot(Up[:,:k1], np.diag(Dp[:k1]))\n",
        "  clf_p.fit(Up_train, Y_train)\n",
        "  X_test_p_coords = np.dot(X_test, Vp[:k1,:].T)\n",
        "  Y_pred_p = clf_p.predict(X_test_p_coords)\n",
        "  accuracy_p = accuracy_score(Y_test, Y_pred_p)\n",
        "  accuracies_p.append(accuracy_p)\n"
      ]
    },
    {
      "cell_type": "code",
      "execution_count": null,
      "metadata": {
        "id": "5Vs19YAglJCI",
        "colab": {
          "base_uri": "https://localhost:8080/",
          "height": 607
        },
        "outputId": "42791c07-d42c-4936-8709-45d00da49b25"
      },
      "outputs": [
        {
          "output_type": "display_data",
          "data": {
            "text/plain": [
              "<Figure size 1000x600 with 1 Axes>"
            ],
            "image/png": "[encoded data removed]"
          },
          "metadata": {}
        }
      ],
      "source": [
        "data1 = []\n",
        "\n",
        "for k1, accuracy, accuracy_p in zip(k_values, accuracies, accuracies_p):\n",
        "    data1.append({'k': k1, 'accuracy_eigen': accuracy, 'accuracy_manually': accuracy_p})\n",
        "\n",
        "df = pd.DataFrame(data1)\n",
        "\n",
        "plt.figure(figsize=(10, 6))\n",
        "\n",
        "bar_width = 1.5\n",
        "index = df['k']\n",
        "\n",
        "plt.bar(index - bar_width/2, df['accuracy_eigen'], bar_width, label='SVD using library functions', color = \"#FFEBB8\")\n",
        "plt.bar(index + bar_width/2, df['accuracy_manually'], bar_width, label='SVD using power method', color = \"#C0DEAD\")\n",
        "\n",
        "plt.title('Comparison of Accuracy Scores for Different SVD Implementations')\n",
        "plt.xlabel('k values')\n",
        "plt.ylabel('Accuracy')\n",
        "plt.xticks(index, k_values)\n",
        "plt.legend()\n",
        "plt.grid(True)\n",
        "plt.tight_layout()\n",
        "plt.show()"
      ]
    }
  ],
  "metadata": {
    "colab": {
      "provenance": []
    },
    "kernelspec": {
      "display_name": "Python 3",
      "name": "python3"
    },
    "language_info": {
      "codemirror_mode": {
        "name": "ipython",
        "version": 3
      },
      "file_extension": ".py",
      "mimetype": "text/x-python",
      "name": "python",
      "nbconvert_exporter": "python",
      "pygments_lexer": "ipython3",
      "version": "3.11.5"
    }
  },
  "nbformat": 4,
  "nbformat_minor": 0
}